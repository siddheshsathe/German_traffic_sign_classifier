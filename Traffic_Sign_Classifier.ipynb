{
 "cells": [
  {
   "cell_type": "markdown",
   "metadata": {},
   "source": [
    "# Self-Driving Car Engineer Nanodegree\n",
    "\n",
    "## Deep Learning\n",
    "\n",
    "## Project: Build a Traffic Sign Recognition Classifier\n",
    "\n",
    "In this notebook, a template is provided for you to implement your functionality in stages, which is required to successfully complete this project. If additional code is required that cannot be included in the notebook, be sure that the Python code is successfully imported and included in your submission if necessary. \n",
    "\n",
    "> **Note**: Once you have completed all of the code implementations, you need to finalize your work by exporting the iPython Notebook as an HTML document. Before exporting the notebook to html, all of the code cells need to have been run so that reviewers can see the final implementation and output. You can then export the notebook by using the menu above and navigating to  \\n\",\n",
    "    \"**File -> Download as -> HTML (.html)**. Include the finished document along with this notebook as your submission. \n",
    "\n",
    "In addition to implementing code, there is a writeup to complete. The writeup should be completed in a separate file, which can be either a markdown file or a pdf document. There is a [write up template](https://github.com/udacity/CarND-Traffic-Sign-Classifier-Project/blob/master/writeup_template.md) that can be used to guide the writing process. Completing the code template and writeup template will cover all of the [rubric points](https://review.udacity.com/#!/rubrics/481/view) for this project.\n",
    "\n",
    "The [rubric](https://review.udacity.com/#!/rubrics/481/view) contains \"Stand Out Suggestions\" for enhancing the project beyond the minimum requirements. The stand out suggestions are optional. If you decide to pursue the \"stand out suggestions\", you can include the code in this Ipython notebook and also discuss the results in the writeup file.\n",
    "\n",
    "\n",
    ">**Note:** Code and Markdown cells can be executed using the **Shift + Enter** keyboard shortcut. In addition, Markdown cells can be edited by typically double-clicking the cell to enter edit mode."
   ]
  },
  {
   "cell_type": "markdown",
   "metadata": {},
   "source": [
    "---\n",
    "## Step 0: Load The Data"
   ]
  },
  {
   "cell_type": "code",
   "execution_count": 1,
   "metadata": {},
   "outputs": [
    {
     "name": "stdout",
     "output_type": "stream",
     "text": [
      "X_train shape:  (34799, 32, 32, 3)\n"
     ]
    }
   ],
   "source": [
    "# Load pickled data\n",
    "import pickle\n",
    "import numpy as np\n",
    "\n",
    "datasetPath = '../data/'\n",
    "\n",
    "training_file = datasetPath + 'train.p'\n",
    "validation_file= datasetPath + 'valid.p'\n",
    "testing_file = datasetPath + 'test.p'\n",
    "\n",
    "with open(training_file, mode='rb') as f:\n",
    "    train = pickle.load(f)\n",
    "with open(validation_file, mode='rb') as f:\n",
    "    valid = pickle.load(f)\n",
    "with open(testing_file, mode='rb') as f:\n",
    "    test = pickle.load(f)\n",
    "\n",
    "X_train, y_train = train['features'], train['labels']\n",
    "X_valid, y_valid = valid['features'], valid['labels']\n",
    "X_test, y_test = test['features'], test['labels']\n",
    "\n",
    "print('X_train shape: ', X_train.shape)\n"
   ]
  },
  {
   "cell_type": "markdown",
   "metadata": {},
   "source": [
    "---\n",
    "\n",
    "## Step 1: Dataset Summary & Exploration\n",
    "\n",
    "The pickled data is a dictionary with 4 key/value pairs:\n",
    "\n",
    "- `'features'` is a 4D array containing raw pixel data of the traffic sign images, (num examples, width, height, channels).\n",
    "- `'labels'` is a 1D array containing the label/class id of the traffic sign. The file `signnames.csv` contains id -> name mappings for each id.\n",
    "- `'sizes'` is a list containing tuples, (width, height) representing the original width and height the image.\n",
    "- `'coords'` is a list containing tuples, (x1, y1, x2, y2) representing coordinates of a bounding box around the sign in the image. **THESE COORDINATES ASSUME THE ORIGINAL IMAGE. THE PICKLED DATA CONTAINS RESIZED VERSIONS (32 by 32) OF THESE IMAGES**\n",
    "\n",
    "Complete the basic data summary below. Use python, numpy and/or pandas methods to calculate the data summary rather than hard coding the results. For example, the [pandas shape method](http://pandas.pydata.org/pandas-docs/stable/generated/pandas.DataFrame.shape.html) might be useful for calculating some of the summary results. "
   ]
  },
  {
   "cell_type": "markdown",
   "metadata": {},
   "source": [
    "### Provide a Basic Summary of the Data Set Using Python, Numpy and/or Pandas"
   ]
  },
  {
   "cell_type": "code",
   "execution_count": 2,
   "metadata": {},
   "outputs": [
    {
     "name": "stdout",
     "output_type": "stream",
     "text": [
      "Number of training examples = 34799\n",
      "Number of testing examples = 12630\n",
      "Image data shape = (32, 32, 3)\n",
      "Number of classes = 43\n"
     ]
    }
   ],
   "source": [
    "### Replace each question mark with the appropriate value. \n",
    "### Use python, pandas or numpy methods rather than hard coding the results\n",
    "\n",
    "# TODO: Number of training examples\n",
    "n_train = len(X_train)\n",
    "\n",
    "# TODO: Number of validation examples\n",
    "n_validation = len(X_valid)\n",
    "\n",
    "# TODO: Number of testing examples.\n",
    "n_test = len(X_test)\n",
    "\n",
    "# TODO: What's the shape of an traffic sign image?\n",
    "image_shape = X_test[0].shape\n",
    "\n",
    "# TODO: How many unique classes/labels there are in the dataset.\n",
    "n_classes = len(np.unique(y_train))\n",
    "\n",
    "print(\"Number of training examples =\", n_train)\n",
    "print(\"Number of testing examples =\", n_test)\n",
    "print(\"Image data shape =\", image_shape)\n",
    "print(\"Number of classes =\", n_classes)"
   ]
  },
  {
   "cell_type": "markdown",
   "metadata": {},
   "source": [
    "### Include an exploratory visualization of the dataset"
   ]
  },
  {
   "cell_type": "markdown",
   "metadata": {},
   "source": [
    "Visualize the German Traffic Signs Dataset using the pickled file(s). This is open ended, suggestions include: plotting traffic sign images, plotting the count of each sign, etc. \n",
    "\n",
    "The [Matplotlib](http://matplotlib.org/) [examples](http://matplotlib.org/examples/index.html) and [gallery](http://matplotlib.org/gallery.html) pages are a great resource for doing visualizations in Python.\n",
    "\n",
    "**NOTE:** It's recommended you start with something simple first. If you wish to do more, come back to it after you've completed the rest of the sections. It can be interesting to look at the distribution of classes in the training, validation and test set. Is the distribution the same? Are there more examples of some classes than others?"
   ]
  },
  {
   "cell_type": "code",
   "execution_count": 3,
   "metadata": {},
   "outputs": [
    {
     "name": "stdout",
     "output_type": "stream",
     "text": [
      "2\n"
     ]
    }
   ],
   "source": [
    "import matplotlib.pyplot as plt\n",
    "from random import randint as rint\n",
    "index = rint(0, len(X_train))\n",
    "plt.imshow(X_train[index])\n",
    "print(y_train[index])"
   ]
  },
  {
   "cell_type": "markdown",
   "metadata": {},
   "source": [
    "----\n",
    "\n",
    "## Step 2: Design and Test a Model Architecture\n",
    "A deep learning model is implemented which gives the validation accuracy of around 0.955. The model consists of below components.\n",
    "1. 3 Conv2d layers\n",
    "2. Every conv2d layer has a maxpool layer\n",
    "3. 4 Dense layers"
   ]
  },
  {
   "cell_type": "markdown",
   "metadata": {},
   "source": [
    "### Pre-process the Data Set (normalization, grayscale, etc.)"
   ]
  },
  {
   "cell_type": "markdown",
   "metadata": {},
   "source": [
    "Here, I've converted the RGB data to grayscale by using the method mentioned [here](https://stackoverflow.com/questions/12201577/how-can-i-convert-an-rgb-image-into-grayscale-in-python) on Stack Overflow.\n",
    "I multiplied each channel number i.e, R, G and B by a constant which was previously calculated to get the grayscale value.\n",
    "\n",
    "Also, the image data should be normalized so that the data has mean zero and equal variance. For image data, `(pixel - 128)/ 128` is a quick way to approximately normalize the data."
   ]
  },
  {
   "cell_type": "code",
   "execution_count": 4,
   "metadata": {},
   "outputs": [
    {
     "data": {
      "image/png": "[encoded data removed]",
      "text/plain": [
       "<Figure size 432x288 with 1 Axes>"
      ]
     },
     "metadata": {
      "needs_background": "light"
     },
     "output_type": "display_data"
    }
   ],
   "source": [
    "# Preprocessing the images in test, validation and train set\n",
    "def rgb2Gray(image):\n",
    "    r, g, b = image[:,:, 0], image[:,:, 1], image[:,:, 2] \n",
    "    rgb =  r * 0.299 + g * 0.587 + b * 0.114\n",
    "    a = .1\n",
    "    b = .9\n",
    "    min_data = 0\n",
    "    max_data = 255\n",
    "    norm = a + ((rgb - min_data)*(b - a)/(max_data - min_data))\n",
    "    return norm\n",
    "\n",
    "plt.imshow(rgb2Gray(X_train[0]), cmap='gray')\n",
    "X_train = np.array([np.expand_dims(rgb2Gray(image), axis=2) for image in X_train])\n",
    "X_test = np.array([np.expand_dims(rgb2Gray(image), axis=2) for image in X_test])\n",
    "X_valid = np.array([np.expand_dims(rgb2Gray(image), axis=2) for image in X_valid])"
   ]
  },
  {
   "cell_type": "markdown",
   "metadata": {},
   "source": [
    "### Model Architecture\n",
    "[Graph](./graph.png) image depicts the model architecture. (This graph is generated by tensorboard.)"
   ]
  },
  {
   "cell_type": "code",
   "execution_count": 5,
   "metadata": {},
   "outputs": [],
   "source": [
    "import tensorflow as tf\n",
    "from tensorflow.contrib.layers import flatten\n",
    "from tensorflow.contrib.layers import dropout\n",
    "\n",
    "def model(x):\n",
    "    # Layer 1\n",
    "    weights_c1 = tf.Variable(tf.truncated_normal([5, 5, 1, 6], mean=0.0, stddev= .1))\n",
    "    biases_c1 = tf.Variable(tf.zeros(5))\n",
    "    \n",
    "    conv1 = tf.nn.conv2d(x, weights_c1, strides=[1, 1, 1, 1], padding='VALID')\n",
    "    conv1 = tf.nn.relu(conv1, name='Conv1')\n",
    "    ## Max pooling\n",
    "    filter_shape = [1, 2, 2, 1]\n",
    "    strides = [1, 2, 2, 1]\n",
    "    conv1 = tf.nn.max_pool(conv1, filter_shape, strides, 'VALID')\n",
    "    \n",
    "    pool1_flat = flatten(conv1)\n",
    "    \n",
    "    # Layer 2\n",
    "    weights_c2 = tf.Variable(tf.truncated_normal([5, 5, 6, 16], mean=0.0, stddev= .1))\n",
    "    biases_c2 = tf.Variable(tf.zeros(16))\n",
    "    \n",
    "    conv2 = tf.nn.conv2d(conv1, weights_c2, strides=[1, 1, 1, 1], padding='VALID')\n",
    "    conv2 = tf.nn.relu(conv2, name='Conv2')\n",
    "    \n",
    "    ## Max pooling\n",
    "    filter_shape = [1, 2, 2, 1]\n",
    "    strides = [1, 2, 2, 1]\n",
    "    conv2 = tf.nn.max_pool(conv2, filter_shape, strides, 'VALID')\n",
    "    \n",
    "    pool2_flat = flatten(conv2)\n",
    "    \n",
    "    # Layer 3\n",
    "    weights_c3 = tf.Variable(tf.truncated_normal([2, 2, 16, 120], mean=0.0, stddev= .1))\n",
    "    biases_c3 = tf.Variable(tf.zeros(16))\n",
    "    \n",
    "    conv3 = tf.nn.conv2d(conv2, weights_c3, strides=[1, 1, 1, 1], padding='VALID')\n",
    "    conv3 = tf.nn.relu(conv3, name='Conv3')\n",
    "    \n",
    "    ## Max pooling\n",
    "    filter_shape = [1, 2, 2, 1]\n",
    "    strides = [1, 2, 2, 1]\n",
    "    conv3 = tf.nn.max_pool(conv3, filter_shape, strides, 'VALID')\n",
    "    \n",
    "    pool3_flat = flatten(conv3)\n",
    "    \n",
    "    \n",
    "    input_to_dense_layer_f3 = tf.concat([pool1_flat, pool2_flat, pool3_flat], 1)\n",
    "    \n",
    "    # Layer 4\n",
    "    weights_f3 = tf.Variable(tf.truncated_normal([2056, 120], mean=0.0, stddev= .1))\n",
    "    biases_f3 = tf.Variable(tf.zeros(120))\n",
    "    \n",
    "    dense_f3 = tf.add(tf.matmul(input_to_dense_layer_f3, weights_f3), biases_f3)\n",
    "    dense_f3 = tf.nn.relu(dense_f3, name='Dense1')\n",
    "    \n",
    "    # Layer 5\n",
    "    weights_f4 = tf.Variable(tf.truncated_normal([120, 84], mean=0.0, stddev= .1))\n",
    "    biases_f4 = tf.Variable(tf.zeros(84))\n",
    "    \n",
    "    dense_f4 = tf.add(tf.matmul(dense_f3, weights_f4), biases_f4)\n",
    "    dense_f4 = tf.nn.relu(dense_f4, name='Dense2') \n",
    "    \n",
    "    dense_f4 = dropout(dense_f4, keep_prob=keep_prob)\n",
    "    \n",
    "    # Layer 6\n",
    "    weights_f6 = tf.Variable(tf.truncated_normal([84, 32], mean=0.0, stddev= .1))\n",
    "    biases_f6 = tf.Variable(tf.zeros(32))\n",
    "    \n",
    "    dense_f6 = tf.add(tf.matmul(dense_f4, weights_f6), biases_f6)\n",
    "    dense_f6 = tf.nn.relu(dense_f6, name='Dense3') \n",
    "    \n",
    "    dense_f6 = dropout(dense_f6, keep_prob=keep_prob)\n",
    "    \n",
    "    # Layer 7\n",
    "    weights_f5 = tf.Variable(tf.truncated_normal([32, n_classes]))\n",
    "    biases_f5 = tf.Variable(tf.zeros(n_classes))\n",
    "    \n",
    "    logits = tf.add(tf.matmul(dense_f6, weights_f5), biases_f5)    \n",
    "    return logits\n",
    "    "
   ]
  },
  {
   "cell_type": "markdown",
   "metadata": {},
   "source": [
    "### Train, Validate and Test the Model"
   ]
  },
  {
   "cell_type": "markdown",
   "metadata": {},
   "source": [
    "A validation set can be used to assess how well the model is performing. A low accuracy on the training and validation\n",
    "sets imply underfitting. A high accuracy on the training set but low accuracy on the validation set implies overfitting."
   ]
  },
  {
   "cell_type": "code",
   "execution_count": 6,
   "metadata": {},
   "outputs": [],
   "source": [
    "# Defining placeholders for image input and labels\n",
    "x = tf.placeholder(tf.float32, (None, 32, 32, 1))\n",
    "y = tf.placeholder(tf.int32, (None))\n",
    "keep_prob = tf.placeholder(tf.float32)\n",
    "one_hot_y = tf.one_hot(y, n_classes)"
   ]
  },
  {
   "cell_type": "code",
   "execution_count": 7,
   "metadata": {},
   "outputs": [],
   "source": [
    "learn_rate = 0.001\n",
    "logits = model(x)\n",
    "cross_entropy = tf.nn.softmax_cross_entropy_with_logits_v2(labels=one_hot_y, logits=logits)\n",
    "loss = tf.reduce_mean(cross_entropy)\n",
    "optimizer = tf.train.AdamOptimizer(learning_rate=learn_rate)\n",
    "training_op = optimizer.minimize(loss)"
   ]
  },
  {
   "cell_type": "code",
   "execution_count": 8,
   "metadata": {},
   "outputs": [],
   "source": [
    "num_epochs = 50\n",
    "batch_size = 128"
   ]
  },
  {
   "cell_type": "code",
   "execution_count": 9,
   "metadata": {},
   "outputs": [],
   "source": [
    "correct_prediction = tf.equal(tf.argmax(logits, 1), tf.argmax(one_hot_y, 1))\n",
    "accuracy_operation = tf.reduce_mean(tf.cast(correct_prediction, tf.float32))\n",
    "saver = tf.train.Saver()\n",
    "\n",
    "def evaluate(X_data, y_data):\n",
    "    num_examples = len(X_data)\n",
    "    total_accuracy = 0\n",
    "    sess = tf.get_default_session()\n",
    "    for offset in range(0, num_examples, batch_size):\n",
    "        batch_x, batch_y = X_data[offset:offset+batch_size], y_data[offset:offset+batch_size]\n",
    "        accuracy = sess.run(accuracy_operation, feed_dict={x: batch_x, y: batch_y, keep_prob:1.})\n",
    "        total_accuracy += (accuracy * len(batch_x))\n",
    "    return total_accuracy / num_examples"
   ]
  },
  {
   "cell_type": "code",
   "execution_count": 10,
   "metadata": {
    "scrolled": false
   },
   "outputs": [
    {
     "name": "stdout",
     "output_type": "stream",
     "text": [
      "Training: 1/50\n",
      "EPOCH 1 ...\n",
      "Validation Accuracy = 0.468\n",
      "\n",
      "Training: 2/50\n",
      "EPOCH 2 ...\n",
      "Validation Accuracy = 0.684\n",
      "\n",
      "Training: 3/50\n",
      "EPOCH 3 ...\n",
      "Validation Accuracy = 0.807\n",
      "\n",
      "Training: 4/50\n",
      "EPOCH 4 ...\n",
      "Validation Accuracy = 0.849\n",
      "\n",
      "Training: 5/50\n",
      "EPOCH 5 ...\n",
      "Validation Accuracy = 0.891\n",
      "\n",
      "Training: 6/50\n",
      "EPOCH 6 ...\n",
      "Validation Accuracy = 0.901\n",
      "\n",
      "Training: 7/50\n",
      "EPOCH 7 ...\n",
      "Validation Accuracy = 0.911\n",
      "\n",
      "Training: 8/50\n",
      "EPOCH 8 ...\n",
      "Validation Accuracy = 0.920\n",
      "\n",
      "Training: 9/50\n",
      "EPOCH 9 ...\n",
      "Validation Accuracy = 0.921\n",
      "\n",
      "Training: 10/50\n",
      "EPOCH 10 ...\n",
      "Validation Accuracy = 0.933\n",
      "\n",
      "Training: 11/50\n",
      "EPOCH 11 ...\n",
      "Validation Accuracy = 0.933\n",
      "\n",
      "Training: 12/50\n",
      "EPOCH 12 ...\n",
      "Validation Accuracy = 0.937\n",
      "\n",
      "Training: 13/50\n",
      "EPOCH 13 ...\n",
      "Validation Accuracy = 0.932\n",
      "\n",
      "Training: 14/50\n",
      "EPOCH 14 ...\n",
      "Validation Accuracy = 0.944\n",
      "\n",
      "Training: 15/50\n",
      "EPOCH 15 ...\n",
      "Validation Accuracy = 0.942\n",
      "\n",
      "Training: 16/50\n",
      "EPOCH 16 ...\n",
      "Validation Accuracy = 0.949\n",
      "\n",
      "Training: 17/50\n",
      "EPOCH 17 ...\n",
      "Validation Accuracy = 0.949\n",
      "\n",
      "Training: 18/50\n",
      "EPOCH 18 ...\n",
      "Validation Accuracy = 0.951\n",
      "Model saved\n",
      "\n",
      "Training: 19/50\n",
      "EPOCH 19 ...\n",
      "Validation Accuracy = 0.942\n",
      "\n",
      "Training: 20/50\n",
      "EPOCH 20 ...\n",
      "Validation Accuracy = 0.948\n",
      "\n",
      "Training: 21/50\n",
      "EPOCH 21 ...\n",
      "Validation Accuracy = 0.948\n",
      "\n",
      "Training: 22/50\n",
      "EPOCH 22 ...\n",
      "Validation Accuracy = 0.941\n",
      "\n",
      "Training: 23/50\n",
      "EPOCH 23 ...\n",
      "Validation Accuracy = 0.948\n",
      "\n",
      "Training: 24/50\n",
      "EPOCH 24 ...\n",
      "Validation Accuracy = 0.954\n",
      "Model saved\n",
      "\n",
      "Training: 25/50\n",
      "EPOCH 25 ...\n",
      "Validation Accuracy = 0.955\n",
      "Model saved\n",
      "\n",
      "Training: 26/50\n",
      "EPOCH 26 ...\n",
      "Validation Accuracy = 0.950\n",
      "Model saved\n",
      "\n",
      "Training: 27/50\n",
      "EPOCH 27 ...\n",
      "Validation Accuracy = 0.950\n",
      "Model saved\n",
      "\n",
      "Training: 28/50\n",
      "EPOCH 28 ...\n",
      "Validation Accuracy = 0.947\n",
      "\n",
      "Training: 29/50\n",
      "EPOCH 29 ...\n",
      "Validation Accuracy = 0.958\n",
      "Model saved\n",
      "\n",
      "Training: 30/50\n",
      "EPOCH 30 ...\n",
      "Validation Accuracy = 0.952\n",
      "Model saved\n",
      "\n",
      "Training: 31/50\n",
      "EPOCH 31 ...\n",
      "Validation Accuracy = 0.955\n",
      "Model saved\n",
      "\n",
      "Training: 32/50\n",
      "EPOCH 32 ...\n",
      "Validation Accuracy = 0.955\n",
      "Model saved\n",
      "\n",
      "Training: 33/50\n",
      "EPOCH 33 ...\n",
      "Validation Accuracy = 0.951\n",
      "Model saved\n",
      "\n",
      "Training: 34/50\n",
      "EPOCH 34 ...\n",
      "Validation Accuracy = 0.956\n",
      "Model saved\n",
      "\n",
      "Training: 35/50\n",
      "EPOCH 35 ...\n",
      "Validation Accuracy = 0.954\n",
      "Model saved\n",
      "\n",
      "Training: 36/50\n",
      "EPOCH 36 ...\n",
      "Validation Accuracy = 0.953\n",
      "Model saved\n",
      "\n",
      "Training: 37/50\n",
      "EPOCH 37 ...\n",
      "Validation Accuracy = 0.953\n",
      "Model saved\n",
      "\n",
      "Training: 38/50\n",
      "EPOCH 38 ...\n",
      "Validation Accuracy = 0.960\n",
      "Model saved\n",
      "\n",
      "Training: 39/50\n",
      "EPOCH 39 ...\n",
      "Validation Accuracy = 0.954\n",
      "Model saved\n",
      "\n",
      "Training: 40/50\n",
      "EPOCH 40 ...\n",
      "Validation Accuracy = 0.953\n",
      "Model saved\n",
      "\n",
      "Training: 41/50\n",
      "EPOCH 41 ...\n",
      "Validation Accuracy = 0.954\n",
      "Model saved\n",
      "\n",
      "Training: 42/50\n",
      "EPOCH 42 ...\n",
      "Validation Accuracy = 0.955\n",
      "Model saved\n",
      "\n",
      "Training: 43/50\n",
      "EPOCH 43 ...\n",
      "Validation Accuracy = 0.950\n",
      "\n",
      "Training: 44/50\n",
      "EPOCH 44 ...\n",
      "Validation Accuracy = 0.956\n",
      "Model saved\n",
      "\n",
      "Training: 45/50\n",
      "EPOCH 45 ...\n",
      "Validation Accuracy = 0.954\n",
      "Model saved\n",
      "\n",
      "Training: 46/50\n",
      "EPOCH 46 ...\n",
      "Validation Accuracy = 0.940\n",
      "\n",
      "Training: 47/50\n",
      "EPOCH 47 ...\n",
      "Validation Accuracy = 0.949\n",
      "\n",
      "Training: 48/50\n",
      "EPOCH 48 ...\n",
      "Validation Accuracy = 0.951\n",
      "Model saved\n",
      "\n",
      "Training: 49/50\n",
      "EPOCH 49 ...\n",
      "Validation Accuracy = 0.960\n",
      "Model saved\n",
      "\n",
      "Training: 50/50\n",
      "EPOCH 50 ...\n",
      "Validation Accuracy = 0.947\n",
      "\n"
     ]
    }
   ],
   "source": [
    "# Training\n",
    "from sklearn.utils import shuffle\n",
    "init = tf.global_variables_initializer()\n",
    "\n",
    "num_training_samples = len(X_train)\n",
    "validation_accuracy_list = [0.]\n",
    "\n",
    "with tf.Session(config=tf.ConfigProto(log_device_placement=True)) as sess:\n",
    "    sess.run(init)\n",
    "    for i in range(1, num_epochs+1):\n",
    "        print('Training: {}/{}'.format(i, num_epochs))\n",
    "        X_train, y_train = shuffle(X_train, y_train)\n",
    "        for offset in range(0, num_training_samples, batch_size):\n",
    "            end = offset + batch_size\n",
    "            batch_x, batch_y = X_train[offset:end], y_train[offset:end]\n",
    "            ret = sess.run(training_op, feed_dict={x:batch_x, y:batch_y, keep_prob:.6})\n",
    "            validation_accuracy = evaluate(X_valid, y_valid)\n",
    "        validation_accuracy_list.append(validation_accuracy)\n",
    "        print(\"EPOCH {} ...\".format(i))\n",
    "        print(\"Validation Accuracy = {:.3f}\".format(validation_accuracy))\n",
    "        \n",
    "        if validation_accuracy > 0.95:\n",
    "            saver.save(sess, './trafficSignClassifier')\n",
    "            print(\"Model saved\")\n",
    "        print()"
   ]
  },
  {
   "cell_type": "markdown",
   "metadata": {},
   "source": [
    "#### Let's plot the accuracy graph"
   ]
  },
  {
   "cell_type": "code",
   "execution_count": 11,
   "metadata": {},
   "outputs": [
    {
     "data": {
      "image/png": "[encoded data removed]",
      "text/plain": [
       "<Figure size 432x288 with 1 Axes>"
      ]
     },
     "metadata": {
      "needs_background": "light"
     },
     "output_type": "display_data"
    }
   ],
   "source": [
    "plt.plot(validation_accuracy_list)\n",
    "plt.xlabel('Epochs')\n",
    "plt.ylabel('Accuracy')\n",
    "plt.show()"
   ]
  },
  {
   "cell_type": "markdown",
   "metadata": {},
   "source": [
    "#### Underfitting or Overfitting?\n",
    "Since our validation accuracy is around 0.955, we are not overfitting the data. \n",
    "Thus, we may conclude that the model above is working fine as expected"
   ]
  },
  {
   "cell_type": "markdown",
   "metadata": {},
   "source": [
    "#### Run the model on test set"
   ]
  },
  {
   "cell_type": "code",
   "execution_count": 12,
   "metadata": {},
   "outputs": [
    {
     "name": "stdout",
     "output_type": "stream",
     "text": [
      "INFO:tensorflow:Restoring parameters from ./trafficSignClassifier\n",
      "Test accuracy = 0.939\n"
     ]
    }
   ],
   "source": [
    "with tf.Session(config=tf.ConfigProto(log_device_placement=True)) as sess:\n",
    "    saver.restore(sess, tf.train.latest_checkpoint('.'))\n",
    "    test_accuracy = evaluate(X_test, y_test)\n",
    "    print(\"Test accuracy = {:.3f}\".format(test_accuracy))"
   ]
  },
  {
   "cell_type": "markdown",
   "metadata": {},
   "source": [
    "---\n",
    "\n",
    "## Step 3: Test a Model on New Images\n",
    "\n",
    "To give yourself more insight into how your model is working, download at least five pictures of German traffic signs from the web and use your model to predict the traffic sign type.\n",
    "\n",
    "You may find `signnames.csv` useful as it contains mappings from the class id (integer) to the actual sign name.\n",
    "<br/>We've below images downloaded from internet on which we'll be testing our model for accuracy."
   ]
  },
  {
   "cell_type": "code",
   "execution_count": 14,
   "metadata": {},
   "outputs": [
    {
     "data": {
      "image/png": "[encoded data removed]",
      "text/plain": [
       "<Figure size 1080x144 with 5 Axes>"
      ]
     },
     "metadata": {
      "needs_background": "light"
     },
     "output_type": "display_data"
    }
   ],
   "source": [
    "import cv2\n",
    "from glob import glob\n",
    "imgs = []\n",
    "for image in glob('test_images/*.jpg'):\n",
    "    imgs.append(cv2.imread(image))\n",
    "fig, axs = plt.subplots(1,len(imgs), figsize=(15, 2))\n",
    "for i in range(len(imgs)):\n",
    "    axs[i].imshow(imgs[i], cmap='gray')"
   ]
  },
  {
   "cell_type": "markdown",
   "metadata": {},
   "source": [
    "### Predict the Sign Type for Each Image"
   ]
  },
  {
   "cell_type": "code",
   "execution_count": 15,
   "metadata": {},
   "outputs": [
    {
     "name": "stdout",
     "output_type": "stream",
     "text": [
      "INFO:tensorflow:Restoring parameters from ./trafficSignClassifier\n"
     ]
    },
    {
     "data": {
      "image/png": "[encoded data removed]",
      "text/plain": [
       "<Figure size 1080x144 with 5 Axes>"
      ]
     },
     "metadata": {
      "needs_background": "light"
     },
     "output_type": "display_data"
    }
   ],
   "source": [
    "\n",
    "import os\n",
    "imgPath = 'test_images/'\n",
    "images = glob(imgPath + '*.jpg')\n",
    "predictions = []\n",
    "labels = []\n",
    "imgs = []\n",
    "top5probabilities = []\n",
    "with tf.Session(config=tf.ConfigProto(log_device_placement=True)) as sess:\n",
    "    saver.restore(sess, tf.train.latest_checkpoint('.'))\n",
    "    for image in images:\n",
    "        img = cv2.imread(image, 0)\n",
    "        imgs.append(img)\n",
    "        img = np.expand_dims(img, axis=0)\n",
    "        img = np.expand_dims(img, axis=3)\n",
    "        output = sess.run(tf.nn.top_k(tf.nn.softmax(logits), 5),feed_dict={x: img, keep_prob:1.0})\n",
    "        predictions.append(np.array(output[1]))\n",
    "        top5probabilities.append(np.array(output))\n",
    "        labels.append(os.path.splitext(image.split('/')[-1])[0])\n",
    "\n",
    "import pandas as pd\n",
    "def getPredictionLabel(labelId):\n",
    "    df = pd.read_csv('signnames.csv')\n",
    "    df = df.loc[df['ClassId'] == labelId]\n",
    "    label = df.iat[0,1]\n",
    "    return label\n",
    "        \n",
    "        \n",
    "fig, axs = plt.subplots(1,len(images), figsize=(15, 2))\n",
    "for i in range(len(imgs)):\n",
    "    axs[i].imshow(imgs[i], cmap='gray')\n",
    "    axs[i].set_title(\"Predicted: \" + str(getPredictionLabel(predictions[i][0,0]) + '\\n Actual:{}'.format(labels[i])), fontsize=10)"
   ]
  },
  {
   "cell_type": "markdown",
   "metadata": {},
   "source": [
    "### Analyze Performance"
   ]
  },
  {
   "cell_type": "markdown",
   "metadata": {},
   "source": [
    "#### Result of testing on images from internet\n",
    "From above testing on images downloaded from internet are predicted by the model upto ***100%*** accuracy. 5/5 predictions are correct."
   ]
  },
  {
   "cell_type": "markdown",
   "metadata": {},
   "source": [
    "### Output Top 5 Softmax Probabilities For Each Image Found on the Web"
   ]
  },
  {
   "cell_type": "markdown",
   "metadata": {},
   "source": [
    "For each of the new images, print out the model's softmax probabilities to show the **certainty** of the model's predictions (limit the output to the top 5 probabilities for each image). [`tf.nn.top_k`](https://www.tensorflow.org/versions/r0.12/api_docs/python/nn.html#top_k) could prove helpful here. \n",
    "\n",
    "The example below demonstrates how tf.nn.top_k can be used to find the top k predictions for each image.\n",
    "\n",
    "`tf.nn.top_k` will return the values and indices (class ids) of the top k predictions. So if k=3, for each sign, it'll return the 3 largest probabilities (out of a possible 43) and the correspoding class ids.\n",
    "\n",
    "Take this numpy array as an example. The values in the array represent predictions. The array contains softmax probabilities for five candidate images with six possible classes. `tf.nn.top_k` is used to choose the three classes with the highest probability:\n",
    "\n",
    "```\n",
    "# (5, 6) array\n",
    "a = np.array([[ 0.24879643,  0.07032244,  0.12641572,  0.34763842,  0.07893497,\n",
    "         0.12789202],\n",
    "       [ 0.28086119,  0.27569815,  0.08594638,  0.0178669 ,  0.18063401,\n",
    "         0.15899337],\n",
    "       [ 0.26076848,  0.23664738,  0.08020603,  0.07001922,  0.1134371 ,\n",
    "         0.23892179],\n",
    "       [ 0.11943333,  0.29198961,  0.02605103,  0.26234032,  0.1351348 ,\n",
    "         0.16505091],\n",
    "       [ 0.09561176,  0.34396535,  0.0643941 ,  0.16240774,  0.24206137,\n",
    "         0.09155967]])\n",
    "```\n",
    "\n",
    "Running it through `sess.run(tf.nn.top_k(tf.constant(a), k=3))` produces:\n",
    "\n",
    "```\n",
    "TopKV2(values=array([[ 0.34763842,  0.24879643,  0.12789202],\n",
    "       [ 0.28086119,  0.27569815,  0.18063401],\n",
    "       [ 0.26076848,  0.23892179,  0.23664738],\n",
    "       [ 0.29198961,  0.26234032,  0.16505091],\n",
    "       [ 0.34396535,  0.24206137,  0.16240774]]), indices=array([[3, 0, 5],\n",
    "       [0, 1, 4],\n",
    "       [0, 5, 1],\n",
    "       [1, 3, 5],\n",
    "       [1, 4, 3]], dtype=int32))\n",
    "```\n",
    "\n",
    "Looking just at the first row we get `[ 0.34763842,  0.24879643,  0.12789202]`, you can confirm these are the 3 largest probabilities in `a`. You'll also notice `[3, 0, 5]` are the corresponding indices."
   ]
  },
  {
   "cell_type": "code",
   "execution_count": 16,
   "metadata": {},
   "outputs": [
    {
     "name": "stdout",
     "output_type": "stream",
     "text": [
      "Label: keep_right \n",
      " Output: [[1. 0. 0. 0. 0.]] \n",
      " Predicted Label Index: [[38.  0.  1.  2.  3.]]\n",
      "Label: no_entry \n",
      " Output: [[1. 0. 0. 0. 0.]] \n",
      " Predicted Label Index: [[17.  0.  1.  2.  3.]]\n",
      "Label: speed_limit_50 \n",
      " Output: [[1. 0. 0. 0. 0.]] \n",
      " Predicted Label Index: [[2. 0. 1. 3. 4.]]\n",
      "Label: priority_road \n",
      " Output: [[1. 0. 0. 0. 0.]] \n",
      " Predicted Label Index: [[12.  0.  1.  2.  3.]]\n",
      "Label: stop \n",
      " Output: [[1. 0. 0. 0. 0.]] \n",
      " Predicted Label Index: [[14.  0.  1.  2.  3.]]\n"
     ]
    }
   ],
   "source": [
    "for index, line in enumerate(top5probabilities):\n",
    "    print('Label: {} \\n Output: {} \\n Predicted Label Index: {}'.format(labels[index], line[0], line[1]))"
   ]
  },
  {
   "cell_type": "markdown",
   "metadata": {},
   "source": [
    "### Project Writeup\n",
    "\n",
    "Once you have completed the code implementation, document your results in a project writeup using this [template](https://github.com/udacity/CarND-Traffic-Sign-Classifier-Project/blob/master/writeup_template.md) as a guide. The writeup can be in a markdown or pdf file. "
   ]
  },
  {
   "cell_type": "markdown",
   "metadata": {},
   "source": [
    "> **Note**: Once you have completed all of the code implementations and successfully answered each question above, you may finalize your work by exporting the iPython Notebook as an HTML document. You can do this by using the menu above and navigating to  \\n\",\n",
    "    \"**File -> Download as -> HTML (.html)**. Include the finished document along with this notebook as your submission."
   ]
  },
  {
   "cell_type": "markdown",
   "metadata": {},
   "source": [
    "---\n",
    "\n",
    "## Step 4 (Optional): Visualize the Neural Network's State with Test Images\n",
    "\n",
    " This Section is not required to complete but acts as an additional excersise for understaning the output of a neural network's weights. While neural networks can be a great learning device they are often referred to as a black box. We can understand what the weights of a neural network look like better by plotting their feature maps. After successfully training your neural network you can see what it's feature maps look like by plotting the output of the network's weight layers in response to a test stimuli image. From these plotted feature maps, it's possible to see what characteristics of an image the network finds interesting. For a sign, maybe the inner network feature maps react with high activation to the sign's boundary outline or to the contrast in the sign's painted symbol.\n",
    "\n",
    " Provided for you below is the function code that allows you to get the visualization output of any tensorflow weight layer you want. The inputs to the function should be a stimuli image, one used during training or a new one you provided, and then the tensorflow variable name that represents the layer's state during the training process, for instance if you wanted to see what the [LeNet lab's](https://classroom.udacity.com/nanodegrees/nd013/parts/fbf77062-5703-404e-b60c-95b78b2f3f9e/modules/6df7ae49-c61c-4bb2-a23e-6527e69209ec/lessons/601ae704-1035-4287-8b11-e2c2716217ad/concepts/d4aca031-508f-4e0b-b493-e7b706120f81) feature maps looked like for it's second convolutional layer you could enter conv2 as the tf_activation variable.\n",
    "\n",
    "For an example of what feature map outputs look like, check out NVIDIA's results in their paper [End-to-End Deep Learning for Self-Driving Cars](https://devblogs.nvidia.com/parallelforall/deep-learning-self-driving-cars/) in the section Visualization of internal CNN State. NVIDIA was able to show that their network's inner weights had high activations to road boundary lines by comparing feature maps from an image with a clear path to one without. Try experimenting with a similar test to show that your trained network's weights are looking for interesting features, whether it's looking at differences in feature maps from images with or without a sign, or even what feature maps look like in a trained network vs a completely untrained one on the same sign image.\n",
    "\n",
    "<figure>\n",
    " <img src=\"visualize_cnn.png\" width=\"380\" alt=\"Combined Image\" />\n",
    " <figcaption>\n",
    " <p></p> \n",
    " <p style=\"text-align: center;\"> Your output should look something like this (above)</p> \n",
    " </figcaption>\n",
    "</figure>\n",
    " <p></p> \n"
   ]
  },
  {
   "cell_type": "code",
   "execution_count": 17,
   "metadata": {},
   "outputs": [],
   "source": [
    "### Visualize your network's feature maps here.\n",
    "### Feel free to use as many code cells as needed.\n",
    "\n",
    "# image_input: the test image being fed into the network to produce the feature maps\n",
    "# tf_activation: should be a tf variable name used during your training procedure that represents the calculated state of a specific weight layer\n",
    "# activation_min/max: can be used to view the activation contrast in more detail, by default matplot sets min and max to the actual min and max values of the output\n",
    "# plt_num: used to plot out multiple different weight feature map sets on the same block, just extend the plt number for each new feature map entry\n",
    "\n",
    "def outputFeatureMap(image_input, tf_activation, activation_min=-1, activation_max=-1 ,plt_num=1):\n",
    "    # Here make sure to preprocess your image_input in a way your network expects\n",
    "    # with size, normalization, ect if needed\n",
    "    # image_input =\n",
    "    # Note: x should be the same name as your network's tensorflow data placeholder variable\n",
    "    # If you get an error tf_activation is not defined it may be having trouble accessing the variable from inside a function\n",
    "    activation = tf_activation.eval(session=sess,feed_dict={x : image_input})\n",
    "    featuremaps = activation.shape[1]\n",
    "    plt.figure(plt_num, figsize=(15,15))\n",
    "    for featuremap in range(featuremaps):\n",
    "        plt.subplot(6,8, featuremap+1) # sets the number of feature maps to show on each row and column\n",
    "        plt.title('FeatureMap ' + str(featuremap)) # displays the feature map number\n",
    "        if activation_min != -1 & activation_max != -1:\n",
    "            plt.imshow(activation[0,:,:, featuremap], interpolation=\"nearest\", vmin =activation_min, vmax=activation_max, cmap=\"gray\")\n",
    "        elif activation_max != -1:\n",
    "            plt.imshow(activation[0,:,:, featuremap], interpolation=\"nearest\", vmax=activation_max, cmap=\"gray\")\n",
    "        elif activation_min !=-1:\n",
    "            plt.imshow(activation[0,:,:, featuremap], interpolation=\"nearest\", vmin=activation_min, cmap=\"gray\")\n",
    "        else:\n",
    "            plt.imshow(activation[0,:,:, featuremap], interpolation=\"nearest\", cmap=\"gray\")"
   ]
  },
  {
   "cell_type": "markdown",
   "metadata": {},
   "source": [
    "#### Visualizing conv2 layer\n",
    "Below cell visualizes the conv2 layer in our model"
   ]
  },
  {
   "cell_type": "code",
   "execution_count": 18,
   "metadata": {},
   "outputs": [
    {
     "data": {
      "text/plain": [
       "<matplotlib.image.AxesImage at 0x7f82cd315518>"
      ]
     },
     "execution_count": 18,
     "metadata": {},
     "output_type": "execute_result"
    },
    {
     "data": {
      "image/png": "[encoded data removed]",
      "text/plain": [
       "<Figure size 432x288 with 1 Axes>"
      ]
     },
     "metadata": {
      "needs_background": "light"
     },
     "output_type": "display_data"
    }
   ],
   "source": [
    "plt.imshow(np.squeeze(X_train[0], axis=2), cmap='gray')"
   ]
  },
  {
   "cell_type": "code",
   "execution_count": 19,
   "metadata": {
    "scrolled": false
   },
   "outputs": [
    {
     "name": "stdout",
     "output_type": "stream",
     "text": [
      "INFO:tensorflow:Restoring parameters from ./trafficSignClassifier\n"
     ]
    },
    {
     "data": {
      "image/png": "[encoded data removed]",
      "text/plain": [
       "<Figure size 1080x1080 with 10 Axes>"
      ]
     },
     "metadata": {
      "needs_background": "light"
     },
     "output_type": "display_data"
    }
   ],
   "source": [
    "with tf.Session(config=tf.ConfigProto(log_device_placement=True)) as sess:\n",
    "    saver.restore(sess, tf.train.latest_checkpoint('.'))\n",
    "    conv = sess.graph.get_tensor_by_name('Conv2:0')\n",
    "    outputFeatureMap(np.expand_dims(X_train[0], axis=0), conv)"
   ]
  },
  {
   "cell_type": "code",
   "execution_count": null,
   "metadata": {},
   "outputs": [],
   "source": []
  }
 ],
 "metadata": {
  "anaconda-cloud": {},
  "kernelspec": {
   "display_name": "Python 3",
   "language": "python",
   "name": "python3"
  },
  "language_info": {
   "codemirror_mode": {
    "name": "ipython",
    "version": 3
   },
   "file_extension": ".py",
   "mimetype": "text/x-python",
   "name": "python",
   "nbconvert_exporter": "python",
   "pygments_lexer": "ipython3",
   "version": "3.5.2"
  }
 },
 "nbformat": 4,
 "nbformat_minor": 1
}
